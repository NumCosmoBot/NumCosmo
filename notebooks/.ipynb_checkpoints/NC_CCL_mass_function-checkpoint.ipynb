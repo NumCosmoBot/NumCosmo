{
 "cells": [
  {
   "cell_type": "markdown",
   "metadata": {},
   "source": [
    "---\n",
    "**License**\n",
    "\n",
    " NC_CCL_mass_function\n",
    "\n",
    " Thu Apr 01 14:32:00 2021\\\n",
    " Copyright  2021\\\n",
    " Mariana Penna-Lima     <pennalima@gmail.com> \\\n",
    " Cinthia Nunes de Lima  <cinthia.n.lima@uel.br>\n",
    "\n",
    "---\n",
    "---\n",
    "\n",
    " NC_CCL_mass_function\\\n",
    " Copyright (C) 2021 Mariana Penna-Lima <pennalima@gmail.com>, Cinthia Nunes de Lima  <cinthia.n.lima@uel.br>\n",
    "\n",
    " numcosmo is free software: you can redistribute it and/or modify it\n",
    " under the terms of the GNU General Public License as published by the\n",
    " Free Software Foundation, either version 3 of the License, or\n",
    " (at your option) any later version.\n",
    "\n",
    " numcosmo is distributed in the hope that it will be useful, but\n",
    " WITHOUT ANY WARRANTY; without even the implied warranty of\n",
    " MERCHANTABILITY or FITNESS FOR A PARTICULAR PURPOSE.\n",
    " See the GNU General Public License for more details.\n",
    "\n",
    " You should have received a copy of the GNU General Public License along\n",
    " with this program.  If not, see <http://www.gnu.org/licenses/>.\n",
    " \n",
    "---"
   ]
  },
  {
   "cell_type": "markdown",
   "metadata": {},
   "source": [
    "## Importing the libraries\n",
    "\n",
    "In the cell below we import the libraries <code>CCL</code> and <code>NumCosmo</code> for comparison between their mass functions for different multiplicity functions.\n",
    "\n",
    "To the import <code>NumCosmo</code>, we should import <code>GObject</code> . This is important because <code>GObject</code> help us to maps the C language in other languages, like python.\n",
    "\n",
    "The package <code>sys</code> is related to the manipulation and obtaining information from the python environment. Now, the packages <code>numpy</code> and <code>math</code> help us with the calculations, gives us access to mathematical functions.\n",
    "\n",
    "\n"
   ]
  },
  {
   "cell_type": "code",
   "execution_count": 105,
   "metadata": {
    "scrolled": true
   },
   "outputs": [],
   "source": [
    "# NumCosmo\n",
    "try:\n",
    "  import gi\n",
    "  gi.require_version('NumCosmo', '1.0')\n",
    "  gi.require_version('NumCosmoMath', '1.0')\n",
    "except:\n",
    "  pass\n",
    "\n",
    "from gi.repository import GObject\n",
    "from gi.repository import NumCosmo as Nc\n",
    "from gi.repository import NumCosmoMath as Ncm\n",
    "\n",
    "# CCL\n",
    "import pyccl as ccl\n",
    "\n",
    "import sys \n",
    "import numpy as np \n",
    "import math \n",
    "import matplotlib.pyplot as plt \n"
   ]
  },
  {
   "cell_type": "markdown",
   "metadata": {},
   "source": [
    "## Cosmological constants\n",
    "\n",
    "In this cell below we fix the cosmological constants to avoid conflits in the calculations and comparisons between the libraries.\n",
    "\n",
    "\n",
    "$\\Omega_{C}$ = 0.262 The density fraction at z=0 of CDM.<br>\n",
    "$\\Omega_{b}$ = 0.049 The density fraction at z=0 of baryons.<br>\n",
    "$\\Omega_{k}$ = 0.0 The curvature density fraction at z=0.<br>\n",
    "$H_{0 }$ = 67.66   The Hubble constant.<br>\n",
    "$Tcmb_{0}$  = 2.7255 The temperature at z=0 of CMB.<br>\n",
    "$A_{s} = 2.1E-9$  The primordial normalization of the power spectrum at k=0.05 Mpc −1.<br>\n",
    "$\\sigma_{8}$ = 0.8277 The normalization of the power spectrum today. <br>\n",
    "$n_{s}$ = 0.96 Scalar spectral index.<br>\n",
    "$N_{eff}$ = 0.0 3.046 effective number of massless+massive neutrinos present at recombination.<br>\n",
    "$\\omega_{0}$ = -1.0 First order term of the dark energy equation of state.<br>\n",
    "$\\omega_{a}$ = 0.0 Second order term of the dark energy equation of state.<br>\n"
   ]
  },
  {
   "cell_type": "code",
   "execution_count": 106,
   "metadata": {},
   "outputs": [],
   "source": [
    "Omega_c = 0.262 \n",
    "Omega_b = 0.049 \n",
    "Omega_k = 0.0 \n",
    "H0      = 67.66  \n",
    "Tcmb0   = 2.7255 \n",
    "A_s     = 2.1e-9 \n",
    "sigma8  = 0.8277 \n",
    "n_s     = 0.96 \n",
    "Neff    = 0.0 \n",
    "w0      = -1.0 \n",
    "wa      = 0.0 \n"
   ]
  },
  {
   "cell_type": "markdown",
   "metadata": {},
   "source": [
    "## Initializing the libraries \n",
    "\n",
    "First we create the cosmology object  of CCL, <code>cosmo_ccl</code>.Next, we initialize the <code>NumCosmo</code> using <code>Ncm.cfg_init ()</code>, this function should be placed before any NumCosmo function, and then we create the cosmology object of <code>NumCosmo</code>.\n",
    "\n",
    "We also create the homogeneous and isotropic object, <code> hiprim </code>. This is necessary to calculate the linear power spectrum P(k).\n",
    "\n",
    "\n",
    "\n"
   ]
  },
  {
   "cell_type": "code",
   "execution_count": 37,
   "metadata": {},
   "outputs": [],
   "source": [
    "# CCL Cosmology\n",
    "cosmo_ccl = ccl.Cosmology(Omega_c=Omega_c, Omega_b=Omega_b, Neff=Neff,\n",
    "                          h=H0/100.0, sigma8=sigma8, n_s=n_s, Omega_k=Omega_k,\n",
    "                          w0=w0, wa=wa, T_CMB=Tcmb0, m_nu=[0.00, 0.0, 0.0], \n",
    "                          transfer_function='eisenstein_hu', matter_power_spectrum='linear')\n",
    "\n",
    "\n",
    "Ncm.cfg_init () \n",
    "Ncm.cfg_set_log_handler (lambda msg: sys.stdout.write (msg) and sys.stdout.flush ())\n",
    "\n",
    "# NumCosmo Cosmology\n",
    "cosmo = Nc.HICosmo.new_from_name (Nc.HICosmo, \"NcHICosmoDECpl{'massnu-length':<0>}\")\n",
    "cosmo.omega_x2omega_k ()\n",
    "cosmo.param_set_by_name (\"H0\",        H0)\n",
    "cosmo.param_set_by_name (\"Omegak\",    Omega_k)\n",
    "cosmo.param_set_by_name (\"w0\",        w0)\n",
    "cosmo.param_set_by_name (\"w1\",        wa)\n",
    "cosmo.param_set_by_name (\"Omegab\",    Omega_b)\n",
    "cosmo.param_set_by_name (\"Omegac\",    Omega_c)\n",
    "cosmo.param_set_by_name (\"Tgamma0\",   Tcmb0)\n",
    "#cosmo.param_set_by_name (\"massnu_0\",  0.06)\n",
    "#cosmo.param_set_by_name (\"ENnu\", 3.046 - 3.0 * cosmo.E2Press_mnu (1.0e10) / (cosmo.E2Omega_g (1.0e10) * (7.0/8.0*(4.0/11.0)**(4.0/3.0))))\n",
    " \n",
    "hiprim = Nc.HIPrimPowerLaw.new ()\n",
    "hiprim.param_set_by_name (\"ln10e10ASA\", math.log (1.0e10 * A_s))\n",
    "hiprim.param_set_by_name (\"n_SA\",       n_s)\n",
    " \n",
    "\n",
    "cosmo.add_submodel (hiprim)\n",
    "    \n",
    "dist = Nc.Distance.new (3.0)\n",
    "dist.prepare (cosmo)\n",
    "  \n",
    "# dir(ccl.Cosmology)\n",
    "#help(ccl.Cosmology)"
   ]
  },
  {
   "cell_type": "markdown",
   "metadata": {},
   "source": [
    "## Linear matter power spectrum"
   ]
  },
  {
   "cell_type": "code",
   "execution_count": 38,
   "metadata": {},
   "outputs": [],
   "source": [
    "#Nova função de transferência de pertubação\n",
    "tf = Nc.TransferFunc.new_from_name (\"NcTransferFuncEH\")\n",
    "\n",
    "#\n",
    "# New linear matter power spectrum object based of the EH transfer function.\n",
    "psml = Nc.PowspecMLTransfer.new (tf)\n",
    "psml.require_kmin (1.0e-3)\n",
    "psml.require_kmax (1.0e3)\n",
    "\n",
    "#\n",
    "# Apply a tophat filter to the psml object, set best output interval.\n",
    "psf = Ncm.PowspecFilter.new (psml, Ncm.PowspecFilterType.TOPHAT)\n",
    "psf.set_best_lnr0 ()\n"
   ]
  },
  {
   "cell_type": "markdown",
   "metadata": {},
   "source": [
    "## Multiplicity functions"
   ]
  },
  {
   "cell_type": "code",
   "execution_count": 96,
   "metadata": {
    "scrolled": true
   },
   "outputs": [],
   "source": [
    "# CCL multiplicity functions\n",
    "\n",
    "# Press & Schechter mass function\n",
    "ccl_hmf_PS = ccl.halos.MassFuncPress74(cosmo_ccl)\n",
    "\n",
    "# Sheth & Tormen mass function\n",
    "ccl_hmf_ST = ccl.halos.MassFuncSheth99(cosmo_ccl)\n",
    "\n",
    "# Jenkins 2001 mass function\n",
    "ccl_hmf_Jenkins = ccl.halos.MassFuncJenkins01(cosmo_ccl)\n",
    "\n",
    "# Tinker 2008 mass function\n",
    "ccl_hmf_T08 = ccl.halos.MassFuncTinker08(cosmo_ccl)\n",
    "\n",
    "# Tinker 2010 mass function\n",
    "ccl_hmf_T10 = ccl.halos.MassFuncTinker10(cosmo_ccl)\n",
    "\n",
    "# NumCosmo multiplicity functions\n",
    "\n",
    "# Press & Schechter \n",
    "hmf_PS = Nc.MultiplicityFunc.new_from_name (\"NcMultiplicityFuncPS\")\n",
    "\n",
    "# Sheth & Tormen\n",
    "hmf_ST = Nc.MultiplicityFunc.new_from_name (\"NcMultiplicityFuncST\")\n",
    "\n",
    "# Jenkins\n",
    "hmf_Jenkins = Nc.MultiplicityFunc.new_from_name (\"NcMultiplicityFuncJenkins\")\n",
    "\n",
    "# Tinker 2008 (mean density - mass definition)\n",
    "hmf_TM08 = Nc.MultiplicityFunc.new_from_name (\"NcMultiplicityFuncTinkerMean\")\n",
    "\n",
    "# Tinker 2010\n",
    "hmf_T10 = Nc.MultiplicityFunc.new_from_name (\"NcMultiplicityFuncTinkerMeanNormalized\")\n",
    "\n",
    "#\n",
    "# New mass function object using the objects defined above.\n",
    "#\n",
    "mf_PS      = Nc.HaloMassFunction.new (dist, psf, hmf_PS)\n",
    "mf_ST      = Nc.HaloMassFunction.new (dist, psf, hmf_ST)\n",
    "mf_Jenkins = Nc.HaloMassFunction.new (dist, psf, hmf_Jenkins)\n",
    "mf_TM08    = Nc.HaloMassFunction.new (dist, psf, hmf_TM08)\n",
    "mf_T10     = Nc.HaloMassFunction.new (dist, psf, hmf_T10)\n"
   ]
  },
  {
   "cell_type": "code",
   "execution_count": 97,
   "metadata": {},
   "outputs": [],
   "source": [
    "# Array of masses\n",
    "m_arr = np.geomspace(1E10,1E15,128)\n",
    "\n",
    "# Array of redshifts\n",
    "z_arr = np.linspace(0.0,1.0,16)"
   ]
  },
  {
   "cell_type": "code",
   "execution_count": 98,
   "metadata": {},
   "outputs": [],
   "source": [
    "psf.prepare (cosmo)\n",
    "sigma8_nc = psf.eval_sigma (0.0, 8.0 / 0.6766)\n",
    "\n",
    "mf_PS.set_eval_limits (cosmo, math.log (1e10), math.log(1e16), 0.0, 2.0)\n",
    "mf_PS.prepare (cosmo)\n",
    "mf_ST.set_eval_limits (cosmo, math.log (1e10), math.log(1e16), 0.0, 2.0)\n",
    "mf_ST.prepare (cosmo)\n",
    "mf_Jenkins.set_eval_limits (cosmo, math.log (1e10), math.log(1e16), 0.0, 2.0)\n",
    "mf_Jenkins.prepare (cosmo)\n",
    "mf_TM08.set_eval_limits (cosmo, math.log (1e10), math.log(1e16), 0.0, 2.0)\n",
    "mf_TM08.prepare (cosmo)\n",
    "mf_T10.set_eval_limits (cosmo, math.log (1e10), math.log(1e16), 0.0, 2.0)\n",
    "mf_T10.prepare (cosmo)"
   ]
  },
  {
   "cell_type": "code",
   "execution_count": 90,
   "metadata": {},
   "outputs": [],
   "source": [
    "def cmp_double (desc, m1, m2, x1, x2):\n",
    "    print (\"%s: %s = % 22.15g, %s = % 22.15g, CMP: %9.2e\" % (desc, m1, x1, m2, x2, math.fabs (x1 / x2 - 1.0)))\n"
   ]
  },
  {
   "cell_type": "code",
   "execution_count": null,
   "metadata": {},
   "outputs": [
    {
     "data": {
      "text/plain": [
       "<Figure size 432x288 with 0 Axes>"
      ]
     },
     "metadata": {},
     "output_type": "display_data"
    }
   ],
   "source": [
    "plt.figure()\n",
    "fig, axs = plt.subplots (2, sharex=True, gridspec_kw={'hspace': 0}, figsize=(14,7))\n",
    "\n",
    "#CCL\n",
    "#Press & Schechter\n",
    "nm = ccl_hmf_PS.get_mass_function(cosmo_ccl, m_arr, 1.0)\n",
    "ccl_nm_PS = m_arr * nm\n",
    "axs[0].plot(m_arr, ccl_nm_PS, label=ccl_hmf_PS.name)\n",
    "\n",
    "#Sheth & Tormen\n",
    "nm = ccl_hmf_ST.get_mass_function(cosmo_ccl, m_arr, 1.0)\n",
    "ccl_nm_ST = m_arr * nm\n",
    "axs[0].plot(m_arr, ccl_nm_ST, label=ccl_hmf_ST.name)\n",
    "\n",
    "# Jenkins 2001\n",
    "nm = ccl_hmf_Jenkins.get_mass_function(cosmo_ccl, m_arr, 1.0)\n",
    "ccl_nm_Jenkins = m_arr * nm\n",
    "axs[0].plot(m_arr, ccl_nm_Jenkins, label=ccl_hmf_Jenkins.name)\n",
    "\n",
    "# Tinker 2008\n",
    "nm = ccl_hmf_T08.get_mass_function(cosmo_ccl, m_arr, 1.0)\n",
    "ccl_nm_T08 = m_arr * nm\n",
    "axs[0].plot(m_arr, ccl_nm_T08, label=ccl_hmf_T08.name)\n",
    "\n",
    "# Tinker 2010\n",
    "nm = ccl_hmf_T10.get_mass_function(cosmo_ccl, m_arr, 1.0)\n",
    "ccl_nm_T10 = m_arr * nm\n",
    "axs[0].plot(m_arr, ccl_nm_T10, label=ccl_hmf_T10.name)\n",
    "\n",
    "nm_PS = []\n",
    "for m in m_arr:\n",
    "    logm = math.log(m)\n",
    "    nm_PSi = m * mf_PS.dn_dlnM (cosmo, logm, 0.0) * math.log(10.0)\n",
    "    nm_PS.append(nm_PSi)\n",
    "    # include the analyses for the other mass functions (ST, Jenkins...)\n",
    "\n",
    "nm_PS = np.array (nm_PS)    \n",
    "    \n",
    "#print (nm_ccl)\n",
    "#print (np.array (nm_PS))    \n",
    "#print (np.abs (nm_ccl / nm_PS  - 1.0))    \n",
    "    \n",
    "axs[0].plot (m_arr, nm_PS, label=\"PS74 Nc\")\n",
    "axs[1].plot (m_arr, np.abs (ccl_nm_PS / nm_PS  - 1.0), '-', label = \"PS\")\n",
    "\n",
    "axs[0].set_xscale ('log')\n",
    "axs[0].set_yscale ('log')\n",
    "#axs[0].ylim([1.0E9,8.5E9])\n",
    "axs[1].set_yscale ('log')\n",
    "axs[1].set_xlabel(r'$M/M_\\odot$', fontsize=14)\n",
    "axs[0].set_ylabel(r'$M\\,\\frac{dn}{d\\log_{10}M}\\,[M_\\odot\\,{\\rm Mpc}^{-3}]$',\n",
    "           fontsize=14)\n",
    "axs[1].set_ylabel(r'$\\frac{dn}{d\\log_{10}M}_{\\mathrm{ccl}} () / \\frac{dn}{d\\log_{10}M}_{\\mathrm{nc}} - 1$')\n",
    "\n",
    "\n",
    "axs[0].legend(loc='best')\n",
    "axs[1].legend(loc='best')\n",
    "axs[1].grid()\n",
    "\n",
    "\n",
    "plt.show ()"
   ]
  },
  {
   "cell_type": "code",
   "execution_count": null,
   "metadata": {},
   "outputs": [],
   "source": []
  },
  {
   "cell_type": "markdown",
   "metadata": {},
   "source": []
  },
  {
   "cell_type": "code",
   "execution_count": null,
   "metadata": {},
   "outputs": [],
   "source": []
  },
  {
   "cell_type": "markdown",
   "metadata": {},
   "source": []
  },
  {
   "cell_type": "code",
   "execution_count": null,
   "metadata": {},
   "outputs": [],
   "source": []
  },
  {
   "cell_type": "markdown",
   "metadata": {},
   "source": []
  },
  {
   "cell_type": "code",
   "execution_count": null,
   "metadata": {},
   "outputs": [],
   "source": []
  },
  {
   "cell_type": "markdown",
   "metadata": {},
   "source": []
  },
  {
   "cell_type": "code",
   "execution_count": null,
   "metadata": {},
   "outputs": [],
   "source": []
  }
 ],
 "metadata": {
  "kernelspec": {
   "display_name": "Python 3",
   "language": "python",
   "name": "python3"
  },
  "language_info": {
   "codemirror_mode": {
    "name": "ipython",
    "version": 3
   },
   "file_extension": ".py",
   "mimetype": "text/x-python",
   "name": "python",
   "nbconvert_exporter": "python",
   "pygments_lexer": "ipython3",
   "version": "3.7.3"
  }
 },
 "nbformat": 4,
 "nbformat_minor": 2
}
